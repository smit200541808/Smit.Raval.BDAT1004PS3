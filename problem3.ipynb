{
 "cells": [
  {
   "cell_type": "markdown",
   "id": "77f19b14",
   "metadata": {},
   "source": [
    "### Question 1"
   ]
  },
  {
   "cell_type": "code",
   "execution_count": 1,
   "id": "71414641",
   "metadata": {},
   "outputs": [],
   "source": [
    "# Import the necessary libraries\n",
    "import pandas as pd\n",
    "\n",
    "# Import the dataset from the provided address\n",
    "url = \"https://raw.githubusercontent.com/justmarkham/DAT8/master/data/u.user\"\n",
    "\n",
    "# Assign it to a variable called users\n",
    "users = pd.read_csv(url, sep='|', index_col='user_id')"
   ]
  },
  {
   "cell_type": "markdown",
   "id": "04119253",
   "metadata": {},
   "source": [
    "- Discover what is the mean age per occupation"
   ]
  },
  {
   "cell_type": "code",
   "execution_count": 2,
   "id": "58b5eb59",
   "metadata": {},
   "outputs": [
    {
     "name": "stdout",
     "output_type": "stream",
     "text": [
      "Mean age per occupation:\n",
      "\n",
      "occupation\n",
      "administrator    38.746835\n",
      "artist           31.392857\n",
      "doctor           43.571429\n",
      "educator         42.010526\n",
      "engineer         36.388060\n",
      "entertainment    29.222222\n",
      "executive        38.718750\n",
      "healthcare       41.562500\n",
      "homemaker        32.571429\n",
      "lawyer           36.750000\n",
      "librarian        40.000000\n",
      "marketing        37.615385\n",
      "none             26.555556\n",
      "other            34.523810\n",
      "programmer       33.121212\n",
      "retired          63.071429\n",
      "salesman         35.666667\n",
      "scientist        35.548387\n",
      "student          22.081633\n",
      "technician       33.148148\n",
      "writer           36.311111\n",
      "Name: age, dtype: float64\n"
     ]
    }
   ],
   "source": [
    "\n",
    "mean_age_per_occupation = users.groupby('occupation')['age'].mean()\n",
    "\n",
    "# Print or use the results as needed\n",
    "print(\"Mean age per occupation:\\n\")\n",
    "print(mean_age_per_occupation)"
   ]
  },
  {
   "cell_type": "markdown",
   "id": "b4989c57",
   "metadata": {},
   "source": [
    "- Discover the Male ratio per occupation and sort it from the most to the least"
   ]
  },
  {
   "cell_type": "code",
   "execution_count": 3,
   "id": "093bdd38",
   "metadata": {},
   "outputs": [
    {
     "name": "stdout",
     "output_type": "stream",
     "text": [
      "\n",
      "Male ratio per occupation (sorted):\n",
      "\n",
      "occupation\n",
      "doctor           1.000000\n",
      "engineer         0.970149\n",
      "technician       0.962963\n",
      "retired          0.928571\n",
      "programmer       0.909091\n",
      "executive        0.906250\n",
      "scientist        0.903226\n",
      "entertainment    0.888889\n",
      "lawyer           0.833333\n",
      "salesman         0.750000\n",
      "educator         0.726316\n",
      "student          0.693878\n",
      "other            0.657143\n",
      "marketing        0.615385\n",
      "writer           0.577778\n",
      "none             0.555556\n",
      "administrator    0.544304\n",
      "artist           0.535714\n",
      "librarian        0.431373\n",
      "healthcare       0.312500\n",
      "homemaker        0.142857\n",
      "Name: gender, dtype: float64\n"
     ]
    }
   ],
   "source": [
    "\n",
    "def male_ratio(group):\n",
    "    return (group == 'M').sum() / group.size\n",
    "\n",
    "male_ratio_per_occupation = users.groupby('occupation')['gender'].apply(male_ratio).sort_values(ascending=False)\n",
    "\n",
    "print(\"\\nMale ratio per occupation (sorted):\\n\")\n",
    "print(male_ratio_per_occupation)"
   ]
  },
  {
   "cell_type": "markdown",
   "id": "d40f5c1b",
   "metadata": {},
   "source": [
    "- For each occupation, calculate the minimum and maximum ages"
   ]
  },
  {
   "cell_type": "code",
   "execution_count": 4,
   "id": "5599ddb8",
   "metadata": {},
   "outputs": [
    {
     "name": "stdout",
     "output_type": "stream",
     "text": [
      "\n",
      "Minimum and Maximum ages per occupation:\n",
      "\n",
      "               min  max\n",
      "occupation             \n",
      "administrator   21   70\n",
      "artist          19   48\n",
      "doctor          28   64\n",
      "educator        23   63\n",
      "engineer        22   70\n",
      "entertainment   15   50\n",
      "executive       22   69\n",
      "healthcare      22   62\n",
      "homemaker       20   50\n",
      "lawyer          21   53\n",
      "librarian       23   69\n",
      "marketing       24   55\n",
      "none            11   55\n",
      "other           13   64\n",
      "programmer      20   63\n",
      "retired         51   73\n",
      "salesman        18   66\n",
      "scientist       23   55\n",
      "student          7   42\n",
      "technician      21   55\n",
      "writer          18   60\n"
     ]
    }
   ],
   "source": [
    "min_max_age_per_occupation = users.groupby('occupation')['age'].agg(['min', 'max'])\n",
    "\n",
    "print(\"\\nMinimum and Maximum ages per occupation:\\n\")\n",
    "print(min_max_age_per_occupation)"
   ]
  },
  {
   "cell_type": "markdown",
   "id": "67380ae4",
   "metadata": {},
   "source": [
    "- For each combination of occupation and sex, calculate the mean age"
   ]
  },
  {
   "cell_type": "code",
   "execution_count": 5,
   "id": "07c75b9c",
   "metadata": {},
   "outputs": [
    {
     "name": "stdout",
     "output_type": "stream",
     "text": [
      "\n",
      "Mean age per occupation and sex:\n",
      "\n",
      "occupation     gender\n",
      "administrator  F         40.638889\n",
      "               M         37.162791\n",
      "artist         F         30.307692\n",
      "               M         32.333333\n",
      "doctor         M         43.571429\n",
      "educator       F         39.115385\n",
      "               M         43.101449\n",
      "engineer       F         29.500000\n",
      "               M         36.600000\n",
      "entertainment  F         31.000000\n",
      "               M         29.000000\n",
      "executive      F         44.000000\n",
      "               M         38.172414\n",
      "healthcare     F         39.818182\n",
      "               M         45.400000\n",
      "homemaker      F         34.166667\n",
      "               M         23.000000\n",
      "lawyer         F         39.500000\n",
      "               M         36.200000\n",
      "librarian      F         40.000000\n",
      "               M         40.000000\n",
      "marketing      F         37.200000\n",
      "               M         37.875000\n",
      "none           F         36.500000\n",
      "               M         18.600000\n",
      "other          F         35.472222\n",
      "               M         34.028986\n",
      "programmer     F         32.166667\n",
      "               M         33.216667\n",
      "retired        F         70.000000\n",
      "               M         62.538462\n",
      "salesman       F         27.000000\n",
      "               M         38.555556\n",
      "scientist      F         28.333333\n",
      "               M         36.321429\n",
      "student        F         20.750000\n",
      "               M         22.669118\n",
      "technician     F         38.000000\n",
      "               M         32.961538\n",
      "writer         F         37.631579\n",
      "               M         35.346154\n",
      "Name: age, dtype: float64\n"
     ]
    }
   ],
   "source": [
    "\n",
    "mean_age_per_occupation_sex = users.groupby(['occupation', 'gender'])['age'].mean()\n",
    "\n",
    "print(\"\\nMean age per occupation and sex:\\n\")\n",
    "print(mean_age_per_occupation_sex)"
   ]
  },
  {
   "cell_type": "markdown",
   "id": "35893046",
   "metadata": {},
   "source": [
    "- For each occupation present the percentage of women and men"
   ]
  },
  {
   "cell_type": "code",
   "execution_count": 6,
   "id": "24cc1bfc",
   "metadata": {},
   "outputs": [
    {
     "name": "stdout",
     "output_type": "stream",
     "text": [
      "\n",
      "Percentage of women and men per occupation:\n",
      "\n",
      "gender                F         M\n",
      "occupation                       \n",
      "administrator  0.455696  0.544304\n",
      "artist         0.464286  0.535714\n",
      "doctor              NaN  1.000000\n",
      "educator       0.273684  0.726316\n",
      "engineer       0.029851  0.970149\n",
      "entertainment  0.111111  0.888889\n",
      "executive      0.093750  0.906250\n",
      "healthcare     0.687500  0.312500\n",
      "homemaker      0.857143  0.142857\n",
      "lawyer         0.166667  0.833333\n",
      "librarian      0.568627  0.431373\n",
      "marketing      0.384615  0.615385\n",
      "none           0.444444  0.555556\n",
      "other          0.342857  0.657143\n",
      "programmer     0.090909  0.909091\n",
      "retired        0.071429  0.928571\n",
      "salesman       0.250000  0.750000\n",
      "scientist      0.096774  0.903226\n",
      "student        0.306122  0.693878\n",
      "technician     0.037037  0.962963\n",
      "writer         0.422222  0.577778\n"
     ]
    }
   ],
   "source": [
    "\n",
    "gender_percentage_per_occupation = users.groupby(['occupation', 'gender']).size().unstack().apply(lambda x: x / x.sum(), axis=1)\n",
    "\n",
    "print(\"\\nPercentage of women and men per occupation:\\n\")\n",
    "print(gender_percentage_per_occupation)"
   ]
  },
  {
   "cell_type": "markdown",
   "id": "633a6e7d",
   "metadata": {},
   "source": [
    "### Question 2 "
   ]
  },
  {
   "cell_type": "code",
   "execution_count": 7,
   "id": "e40d399a",
   "metadata": {},
   "outputs": [],
   "source": [
    "# Import the necessary libraries\n",
    "import pandas as pd\n",
    "\n",
    "# Import the dataset from the provided address\n",
    "url = \"https://raw.githubusercontent.com/guipsamora/pandas_exercises/master/02_Filtering_%26_Sorting/Euro12/Euro_2012_stats_TEAM.csv\"\n",
    "\n",
    "# Assign it to a variable called euro12\n",
    "euro12 = pd.read_csv(url)\n"
   ]
  },
  {
   "cell_type": "markdown",
   "id": "7b4463c4",
   "metadata": {},
   "source": [
    "- Select only the Goal column"
   ]
  },
  {
   "cell_type": "code",
   "execution_count": 8,
   "id": "90c351cf",
   "metadata": {},
   "outputs": [
    {
     "name": "stdout",
     "output_type": "stream",
     "text": [
      "Goal column:\n",
      "0      4\n",
      "1      4\n",
      "2      4\n",
      "3      5\n",
      "4      3\n",
      "5     10\n",
      "6      5\n",
      "7      6\n",
      "8      2\n",
      "9      2\n",
      "10     6\n",
      "11     1\n",
      "12     5\n",
      "13    12\n",
      "14     5\n",
      "15     2\n",
      "Name: Goals, dtype: int64\n"
     ]
    }
   ],
   "source": [
    "goal_column = euro12['Goals']\n",
    "# Print or use the results as needed\n",
    "print(\"Goal column:\")\n",
    "print(goal_column)\n"
   ]
  },
  {
   "cell_type": "markdown",
   "id": "1a2f2aa7",
   "metadata": {},
   "source": [
    "- How many teams participated in the Euro2012?"
   ]
  },
  {
   "cell_type": "code",
   "execution_count": 9,
   "id": "e72ca628",
   "metadata": {},
   "outputs": [
    {
     "name": "stdout",
     "output_type": "stream",
     "text": [
      "\n",
      "Number of teams participated in Euro2012: 16\n"
     ]
    }
   ],
   "source": [
    "num_teams = euro12['Team'].nunique()\n",
    "print(\"\\nNumber of teams participated in Euro2012:\", num_teams)"
   ]
  },
  {
   "cell_type": "markdown",
   "id": "19b227e2",
   "metadata": {},
   "source": [
    "- What is the number of columns in the dataset?"
   ]
  },
  {
   "cell_type": "code",
   "execution_count": 10,
   "id": "8bfe05f3",
   "metadata": {},
   "outputs": [
    {
     "name": "stdout",
     "output_type": "stream",
     "text": [
      "\n",
      "Number of columns in the dataset: 35\n"
     ]
    }
   ],
   "source": [
    "num_columns = euro12.shape[1]\n",
    "print(\"\\nNumber of columns in the dataset:\", num_columns)"
   ]
  },
  {
   "cell_type": "markdown",
   "id": "ac349a7b",
   "metadata": {},
   "source": [
    "- View only the columns Team, Yellow Cards and Red Cards and assign them to a dataframe called discipline"
   ]
  },
  {
   "cell_type": "code",
   "execution_count": 11,
   "id": "70f39793",
   "metadata": {},
   "outputs": [
    {
     "name": "stdout",
     "output_type": "stream",
     "text": [
      "\n",
      "Discipline dataframe:\n",
      "                   Team  Yellow Cards  Red Cards\n",
      "0               Croatia             9          0\n",
      "1        Czech Republic             7          0\n",
      "2               Denmark             4          0\n",
      "3               England             5          0\n",
      "4                France             6          0\n",
      "5               Germany             4          0\n",
      "6                Greece             9          1\n",
      "7                 Italy            16          0\n",
      "8           Netherlands             5          0\n",
      "9                Poland             7          1\n",
      "10             Portugal            12          0\n",
      "11  Republic of Ireland             6          1\n",
      "12               Russia             6          0\n",
      "13                Spain            11          0\n",
      "14               Sweden             7          0\n",
      "15              Ukraine             5          0\n"
     ]
    }
   ],
   "source": [
    "discipline = euro12[['Team', 'Yellow Cards', 'Red Cards']]\n",
    "\n",
    "print(\"\\nDiscipline dataframe:\")\n",
    "print(discipline)"
   ]
  },
  {
   "cell_type": "markdown",
   "id": "254a745f",
   "metadata": {},
   "source": [
    "- Sort the teams by Red Cards, then by Yellow Cards"
   ]
  },
  {
   "cell_type": "code",
   "execution_count": 12,
   "id": "ac665f02",
   "metadata": {},
   "outputs": [
    {
     "name": "stdout",
     "output_type": "stream",
     "text": [
      "\n",
      "Discipline dataframe sorted by Red Cards\n",
      "                   Team  Yellow Cards  Red Cards\n",
      "6                Greece             9          1\n",
      "9                Poland             7          1\n",
      "11  Republic of Ireland             6          1\n",
      "0               Croatia             9          0\n",
      "1        Czech Republic             7          0\n",
      "2               Denmark             4          0\n",
      "3               England             5          0\n",
      "4                France             6          0\n",
      "5               Germany             4          0\n",
      "7                 Italy            16          0\n",
      "8           Netherlands             5          0\n",
      "10             Portugal            12          0\n",
      "12               Russia             6          0\n",
      "13                Spain            11          0\n",
      "14               Sweden             7          0\n",
      "15              Ukraine             5          0\n"
     ]
    }
   ],
   "source": [
    "discipline_sorted_red = discipline.sort_values(by=['Red Cards'], ascending=False)\n",
    "print(\"\\nDiscipline dataframe sorted by Red Cards\")\n",
    "print(discipline_sorted_red)"
   ]
  },
  {
   "cell_type": "code",
   "execution_count": 13,
   "id": "be0f2160",
   "metadata": {},
   "outputs": [
    {
     "name": "stdout",
     "output_type": "stream",
     "text": [
      "\n",
      "Discipline dataframe sorted by Yellow Cards\n",
      "                   Team  Yellow Cards  Red Cards\n",
      "7                 Italy            16          0\n",
      "10             Portugal            12          0\n",
      "13                Spain            11          0\n",
      "0               Croatia             9          0\n",
      "6                Greece             9          1\n",
      "1        Czech Republic             7          0\n",
      "9                Poland             7          1\n",
      "14               Sweden             7          0\n",
      "4                France             6          0\n",
      "11  Republic of Ireland             6          1\n",
      "12               Russia             6          0\n",
      "3               England             5          0\n",
      "8           Netherlands             5          0\n",
      "15              Ukraine             5          0\n",
      "2               Denmark             4          0\n",
      "5               Germany             4          0\n"
     ]
    }
   ],
   "source": [
    "discipline_sorted_yellow = discipline.sort_values(by=['Yellow Cards'], ascending=False)\n",
    "\n",
    "print(\"\\nDiscipline dataframe sorted by Yellow Cards\")\n",
    "print(discipline_sorted_yellow)"
   ]
  },
  {
   "cell_type": "markdown",
   "id": "09550119",
   "metadata": {},
   "source": [
    "- Calculate the mean Yellow Cards given per Team"
   ]
  },
  {
   "cell_type": "code",
   "execution_count": 14,
   "id": "b7f472dd",
   "metadata": {},
   "outputs": [
    {
     "name": "stdout",
     "output_type": "stream",
     "text": [
      "\n",
      "Mean Yellow Cards given per Team: 7.4375\n"
     ]
    }
   ],
   "source": [
    "mean_yellow_cards = discipline['Yellow Cards'].mean()\n",
    "\n",
    "print(\"\\nMean Yellow Cards given per Team:\", mean_yellow_cards)"
   ]
  },
  {
   "cell_type": "markdown",
   "id": "db2b4258",
   "metadata": {},
   "source": [
    "- Filter teams that scored more than 6 goals"
   ]
  },
  {
   "cell_type": "code",
   "execution_count": 15,
   "id": "6b347a23",
   "metadata": {},
   "outputs": [
    {
     "name": "stdout",
     "output_type": "stream",
     "text": [
      "\n",
      "Teams that scored more than 6 goals:\n",
      "5     Germany\n",
      "13      Spain\n",
      "Name: Team, dtype: object\n"
     ]
    }
   ],
   "source": [
    "teams_more_than_six_goals = euro12[euro12['Goals'] > 6]\n",
    "\n",
    "print(\"\\nTeams that scored more than 6 goals:\")\n",
    "print(teams_more_than_six_goals['Team'])"
   ]
  },
  {
   "cell_type": "markdown",
   "id": "04922436",
   "metadata": {},
   "source": [
    "- Select the teams that start with G"
   ]
  },
  {
   "cell_type": "code",
   "execution_count": 16,
   "id": "39e40182",
   "metadata": {},
   "outputs": [
    {
     "name": "stdout",
     "output_type": "stream",
     "text": [
      "\n",
      "Teams that start with G:\n",
      "5    Germany\n",
      "6     Greece\n",
      "Name: Team, dtype: object\n"
     ]
    }
   ],
   "source": [
    "teams_starting_with_G = euro12[euro12['Team'].str.startswith('G')]\n",
    "\n",
    "print(\"\\nTeams that start with G:\")\n",
    "print(teams_starting_with_G['Team'])"
   ]
  },
  {
   "cell_type": "markdown",
   "id": "d106f10e",
   "metadata": {},
   "source": [
    "- Select the first 7 columns"
   ]
  },
  {
   "cell_type": "code",
   "execution_count": 17,
   "id": "c9ffee4b",
   "metadata": {},
   "outputs": [
    {
     "name": "stdout",
     "output_type": "stream",
     "text": [
      "\n",
      "First 7 columns:\n",
      "                   Team  Goals  Shots on target  Shots off target  \\\n",
      "0               Croatia      4               13                12   \n",
      "1        Czech Republic      4               13                18   \n",
      "2               Denmark      4               10                10   \n",
      "3               England      5               11                18   \n",
      "4                France      3               22                24   \n",
      "5               Germany     10               32                32   \n",
      "6                Greece      5                8                18   \n",
      "7                 Italy      6               34                45   \n",
      "8           Netherlands      2               12                36   \n",
      "9                Poland      2               15                23   \n",
      "10             Portugal      6               22                42   \n",
      "11  Republic of Ireland      1                7                12   \n",
      "12               Russia      5                9                31   \n",
      "13                Spain     12               42                33   \n",
      "14               Sweden      5               17                19   \n",
      "15              Ukraine      2                7                26   \n",
      "\n",
      "   Shooting Accuracy % Goals-to-shots  Total shots (inc. Blocked)  \n",
      "0              51.9%            16.0%                          32  \n",
      "1              41.9%            12.9%                          39  \n",
      "2              50.0%            20.0%                          27  \n",
      "3              50.0%            17.2%                          40  \n",
      "4              37.9%             6.5%                          65  \n",
      "5              47.8%            15.6%                          80  \n",
      "6              30.7%            19.2%                          32  \n",
      "7              43.0%             7.5%                         110  \n",
      "8              25.0%             4.1%                          60  \n",
      "9              39.4%             5.2%                          48  \n",
      "10             34.3%             9.3%                          82  \n",
      "11             36.8%             5.2%                          28  \n",
      "12             22.5%            12.5%                          59  \n",
      "13             55.9%            16.0%                         100  \n",
      "14             47.2%            13.8%                          39  \n",
      "15             21.2%             6.0%                          38  \n"
     ]
    }
   ],
   "source": [
    "first_seven_columns = euro12.iloc[:, :7]\n",
    "\n",
    "print(\"\\nFirst 7 columns:\")\n",
    "print(first_seven_columns)"
   ]
  },
  {
   "cell_type": "markdown",
   "id": "fc9e28c2",
   "metadata": {},
   "source": [
    "- Select all columns except the last 3"
   ]
  },
  {
   "cell_type": "code",
   "execution_count": 18,
   "id": "939cce0b",
   "metadata": {},
   "outputs": [
    {
     "name": "stdout",
     "output_type": "stream",
     "text": [
      "\n",
      "All columns except the last 3:\n",
      "                   Team  Goals  Shots on target  Shots off target  \\\n",
      "0               Croatia      4               13                12   \n",
      "1        Czech Republic      4               13                18   \n",
      "2               Denmark      4               10                10   \n",
      "3               England      5               11                18   \n",
      "4                France      3               22                24   \n",
      "5               Germany     10               32                32   \n",
      "6                Greece      5                8                18   \n",
      "7                 Italy      6               34                45   \n",
      "8           Netherlands      2               12                36   \n",
      "9                Poland      2               15                23   \n",
      "10             Portugal      6               22                42   \n",
      "11  Republic of Ireland      1                7                12   \n",
      "12               Russia      5                9                31   \n",
      "13                Spain     12               42                33   \n",
      "14               Sweden      5               17                19   \n",
      "15              Ukraine      2                7                26   \n",
      "\n",
      "   Shooting Accuracy % Goals-to-shots  Total shots (inc. Blocked)  \\\n",
      "0              51.9%            16.0%                          32   \n",
      "1              41.9%            12.9%                          39   \n",
      "2              50.0%            20.0%                          27   \n",
      "3              50.0%            17.2%                          40   \n",
      "4              37.9%             6.5%                          65   \n",
      "5              47.8%            15.6%                          80   \n",
      "6              30.7%            19.2%                          32   \n",
      "7              43.0%             7.5%                         110   \n",
      "8              25.0%             4.1%                          60   \n",
      "9              39.4%             5.2%                          48   \n",
      "10             34.3%             9.3%                          82   \n",
      "11             36.8%             5.2%                          28   \n",
      "12             22.5%            12.5%                          59   \n",
      "13             55.9%            16.0%                         100   \n",
      "14             47.2%            13.8%                          39   \n",
      "15             21.2%             6.0%                          38   \n",
      "\n",
      "    Hit Woodwork  Penalty goals  Penalties not scored  ...  Clean Sheets  \\\n",
      "0              0              0                     0  ...             0   \n",
      "1              0              0                     0  ...             1   \n",
      "2              1              0                     0  ...             1   \n",
      "3              0              0                     0  ...             2   \n",
      "4              1              0                     0  ...             1   \n",
      "5              2              1                     0  ...             1   \n",
      "6              1              1                     1  ...             1   \n",
      "7              2              0                     0  ...             2   \n",
      "8              2              0                     0  ...             0   \n",
      "9              0              0                     0  ...             0   \n",
      "10             6              0                     0  ...             2   \n",
      "11             0              0                     0  ...             0   \n",
      "12             2              0                     0  ...             0   \n",
      "13             0              1                     0  ...             5   \n",
      "14             3              0                     0  ...             1   \n",
      "15             0              0                     0  ...             0   \n",
      "\n",
      "    Blocks  Goals conceded Saves made  Saves-to-shots ratio  Fouls Won  \\\n",
      "0       10               3         13                 81.3%         41   \n",
      "1       10               6          9                 60.1%         53   \n",
      "2       10               5         10                 66.7%         25   \n",
      "3       29               3         22                 88.1%         43   \n",
      "4        7               5          6                 54.6%         36   \n",
      "5       11               6         10                 62.6%         63   \n",
      "6       23               7         13                 65.1%         67   \n",
      "7       18               7         20                 74.1%        101   \n",
      "8        9               5         12                 70.6%         35   \n",
      "9        8               3          6                 66.7%         48   \n",
      "10      11               4         10                 71.5%         73   \n",
      "11      23               9         17                 65.4%         43   \n",
      "12       8               3         10                 77.0%         34   \n",
      "13       8               1         15                 93.8%        102   \n",
      "14      12               5          8                 61.6%         35   \n",
      "15       4               4         13                 76.5%         48   \n",
      "\n",
      "    Fouls Conceded  Offsides  Yellow Cards  Red Cards  \n",
      "0               62         2             9          0  \n",
      "1               73         8             7          0  \n",
      "2               38         8             4          0  \n",
      "3               45         6             5          0  \n",
      "4               51         5             6          0  \n",
      "5               49        12             4          0  \n",
      "6               48        12             9          1  \n",
      "7               89        16            16          0  \n",
      "8               30         3             5          0  \n",
      "9               56         3             7          1  \n",
      "10              90        10            12          0  \n",
      "11              51        11             6          1  \n",
      "12              43         4             6          0  \n",
      "13              83        19            11          0  \n",
      "14              51         7             7          0  \n",
      "15              31         4             5          0  \n",
      "\n",
      "[16 rows x 32 columns]\n"
     ]
    }
   ],
   "source": [
    "all_columns_except_last_three = euro12.iloc[:, :-3]\n",
    "\n",
    "print(\"\\nAll columns except the last 3:\")\n",
    "print(all_columns_except_last_three)"
   ]
  },
  {
   "cell_type": "markdown",
   "id": "f752278d",
   "metadata": {},
   "source": [
    "- Present only the Shooting Accuracy from England, Italy, and Russia"
   ]
  },
  {
   "cell_type": "code",
   "execution_count": 19,
   "id": "8d0a93cb",
   "metadata": {},
   "outputs": [
    {
     "name": "stdout",
     "output_type": "stream",
     "text": [
      "\n",
      "Shooting Accuracy from England, Italy, and Russia:\n",
      "       Team Shooting Accuracy\n",
      "3   England             50.0%\n",
      "7     Italy             43.0%\n",
      "12   Russia             22.5%\n"
     ]
    }
   ],
   "source": [
    "shooting_accuracy_selected_teams = euro12.loc[euro12['Team'].isin(['England', 'Italy', 'Russia']), ['Team', 'Shooting Accuracy']]\n",
    "\n",
    "print(\"\\nShooting Accuracy from England, Italy, and Russia:\")\n",
    "print(shooting_accuracy_selected_teams)"
   ]
  },
  {
   "cell_type": "markdown",
   "id": "d07a978b",
   "metadata": {},
   "source": [
    "### Question 3"
   ]
  },
  {
   "cell_type": "code",
   "execution_count": 20,
   "id": "9fd86e2e",
   "metadata": {},
   "outputs": [
    {
     "name": "stdout",
     "output_type": "stream",
     "text": [
      "Is it going only until index 99? False\n",
      "\n",
      "DataFrame with columns 'bedrs', 'bathrs', 'price_sqr_meter':\n",
      "\n",
      "    bedrs  bathrs  price_sqr_meter\n",
      "0       3       3            23931\n",
      "1       4       2            13627\n",
      "2       1       2            26157\n",
      "3       3       2            20173\n",
      "4       3       2            28047\n",
      "..    ...     ...              ...\n",
      "95      2       1            11154\n",
      "96      2       2            14499\n",
      "97      4       1            16295\n",
      "98      2       1            22183\n",
      "99      1       2            22874\n",
      "\n",
      "[100 rows x 3 columns]\n",
      "\n",
      "One-column DataFrame 'bigcolumn':\n",
      "\n",
      "     bigcolumn\n",
      "0            3\n",
      "1            4\n",
      "2            1\n",
      "3            3\n",
      "4            3\n",
      "..         ...\n",
      "295      11154\n",
      "296      14499\n",
      "297      16295\n",
      "298      22183\n",
      "299      22874\n",
      "\n",
      "[300 rows x 1 columns]\n"
     ]
    }
   ],
   "source": [
    "# Import the necessary libraries\n",
    "import pandas as pd\n",
    "import numpy as np\n",
    "\n",
    "# Create 3 different Series\n",
    "np.random.seed(42)  # Setting seed for reproducibility\n",
    "\n",
    "series1 = pd.Series(np.random.randint(1, 5, size=100), name='bedrs')\n",
    "series2 = pd.Series(np.random.randint(1, 4, size=100), name='bathrs')\n",
    "series3 = pd.Series(np.random.randint(10000, 30001, size=100), name='price_sqr_meter')\n",
    "\n",
    "# Create a DataFrame by joining the Series by column\n",
    "housing_df = pd.concat([series1, series2, series3], axis=1)\n",
    "\n",
    "# Change the name of the columns to bedrs, bathrs, price_sqr_meter\n",
    "housing_df.columns = ['bedrs', 'bathrs', 'price_sqr_meter']\n",
    "\n",
    "# Create a one-column DataFrame with the values of the 3 Series and assign it to 'bigcolumn'\n",
    "bigcolumn_df = pd.concat([series1, series2, series3], axis=0, ignore_index=True).to_frame(name='bigcolumn')\n",
    "\n",
    "# Check if it is going only until index 99\n",
    "print(\"Is it going only until index 99?\", bigcolumn_df.index.max() == 99)\n",
    "\n",
    "#  Reindex the DataFrame so it goes from 0 to 299\n",
    "bigcolumn_df.reset_index(drop=True, inplace=True)\n",
    "\n",
    "# Print or use the results as needed\n",
    "print(\"\\nDataFrame with columns 'bedrs', 'bathrs', 'price_sqr_meter':\\n\")\n",
    "print(housing_df)\n",
    "\n",
    "print(\"\\nOne-column DataFrame 'bigcolumn':\\n\")\n",
    "print(bigcolumn_df)\n"
   ]
  },
  {
   "cell_type": "markdown",
   "id": "9fc11986",
   "metadata": {},
   "source": [
    "### Question 4"
   ]
  },
  {
   "cell_type": "code",
   "execution_count": 21,
   "id": "0709148d",
   "metadata": {},
   "outputs": [],
   "source": [
    "import os \n",
    "current_dir = os.getcwd()"
   ]
  },
  {
   "cell_type": "code",
   "execution_count": 22,
   "id": "38915fc2",
   "metadata": {},
   "outputs": [],
   "source": [
    "import pandas as pd\n",
    "import numpy as np\n",
    "\n",
    "file_path = r\"C:\\Users\\raval\\OneDrive\\Documents\\BDAT\\data prog-Ethan\\dataset\\wind.txt\"\n",
    "\n",
    "data = pd.read_table(file_path, sep='\\s+', header=None, skiprows=1, na_values='NaN')\n",
    "\n",
    "#Fix the 'Yr' column and add the 'Date' column\n",
    "data.columns = ['Yr', 'Mo', 'Dy', 'RPT', 'VAL', 'ROS', 'KIL', 'SHA', 'BIR', 'DUB', 'CLA', 'MUL', 'CLO', 'BEL', 'MAL']\n",
    "data['Yr'] = data['Yr'].apply(lambda x: x + 1900 if x > 50 else x + 2000)\n",
    "data['Date'] = pd.to_datetime(data[['Yr', 'Mo', 'Dy']].astype(str).agg('-'.join, axis=1), format='%Y-%m-%d')"
   ]
  },
  {
   "cell_type": "code",
   "execution_count": 23,
   "id": "4c896842",
   "metadata": {},
   "outputs": [
    {
     "name": "stdout",
     "output_type": "stream",
     "text": [
      "              Yr  Mo  Dy    RPT    VAL    ROS    KIL    SHA   BIR    DUB  \\\n",
      "Date                                                                       \n",
      "1961-01-01  1961   1   1  15.04  14.96  13.17   9.29    NaN  9.87  13.67   \n",
      "1961-01-02  1961   1   2  14.71    NaN  10.83   6.50  12.62  7.67  11.50   \n",
      "1961-01-03  1961   1   3  18.50  16.88  12.33  10.13  11.17  6.17  11.25   \n",
      "1961-01-04  1961   1   4  10.58   6.63  11.75   4.58   4.54  2.88   8.63   \n",
      "1961-01-05  1961   1   5  13.33  13.25  11.42   6.17  10.71  8.21  11.92   \n",
      "\n",
      "              CLA    MUL    CLO    BEL    MAL  \n",
      "Date                                           \n",
      "1961-01-01  10.25  10.83  12.58  18.50  15.04  \n",
      "1961-01-02  10.04   9.79   9.67  17.54  13.83  \n",
      "1961-01-03    NaN   8.50   7.67  12.75  12.71  \n",
      "1961-01-04   1.79   5.83   5.88   5.46  10.88  \n",
      "1961-01-05   6.54  10.92  10.34  12.92  11.83  \n"
     ]
    }
   ],
   "source": [
    "#Set the right dates as the index\n",
    "data.set_index('Date', inplace=True)\n",
    "print(data.head())"
   ]
  },
  {
   "cell_type": "code",
   "execution_count": 24,
   "id": "ba26a444",
   "metadata": {},
   "outputs": [
    {
     "name": "stdout",
     "output_type": "stream",
     "text": [
      "Yr     0\n",
      "Mo     0\n",
      "Dy     0\n",
      "RPT    6\n",
      "VAL    3\n",
      "ROS    2\n",
      "KIL    5\n",
      "SHA    2\n",
      "BIR    0\n",
      "DUB    3\n",
      "CLA    2\n",
      "MUL    3\n",
      "CLO    1\n",
      "BEL    0\n",
      "MAL    4\n",
      "dtype: int64\n"
     ]
    }
   ],
   "source": [
    "#Compute how many values are missing for each location over the entire record\n",
    "missing_values_per_location = data.isnull().sum()\n",
    "print(missing_values_per_location)"
   ]
  },
  {
   "cell_type": "markdown",
   "id": "15cef824",
   "metadata": {},
   "source": [
    "- Compute how many non-missing values there are in total"
   ]
  },
  {
   "cell_type": "code",
   "execution_count": 25,
   "id": "bc23dcb3",
   "metadata": {},
   "outputs": [
    {
     "name": "stdout",
     "output_type": "stream",
     "text": [
      "98579\n"
     ]
    }
   ],
   "source": [
    "total_non_missing_values = data.count().sum()\n",
    "print(total_non_missing_values)"
   ]
  },
  {
   "cell_type": "markdown",
   "id": "0947b67d",
   "metadata": {},
   "source": [
    "- Calculate the mean windspeeds of the windspeeds over all the locations and all the times"
   ]
  },
  {
   "cell_type": "code",
   "execution_count": 26,
   "id": "f90e64be",
   "metadata": {},
   "outputs": [
    {
     "name": "stdout",
     "output_type": "stream",
     "text": [
      "141.0069003540308\n"
     ]
    }
   ],
   "source": [
    "mean_windspeed = data.stack().mean()\n",
    "print(mean_windspeed)"
   ]
  },
  {
   "cell_type": "markdown",
   "id": "a8daeca2",
   "metadata": {},
   "source": [
    "- Create a DataFrame called loc_stats and calculate the min, max, mean, and standard deviations"
   ]
  },
  {
   "cell_type": "code",
   "execution_count": 27,
   "id": "5257e81e",
   "metadata": {},
   "outputs": [
    {
     "name": "stdout",
     "output_type": "stream",
     "text": [
      "         min      max         mean       std\n",
      "Yr   1961.00  1978.00  1969.500304  5.188131\n",
      "Mo      1.00    12.00     6.523274  3.448871\n",
      "Dy      1.00    31.00    15.728628  8.800335\n",
      "RPT     0.67    35.80    12.362987  5.618413\n",
      "VAL     0.21    33.37    10.644314  5.267356\n",
      "ROS     1.50    33.84    11.660526  5.008450\n",
      "KIL     0.00    28.46     6.306468  3.605811\n",
      "SHA     0.13    37.54    10.455834  4.936125\n",
      "BIR     0.00    26.16     7.092254  3.968683\n",
      "DUB     0.00    30.37     9.797343  4.977555\n",
      "CLA     0.00    31.08     8.495053  4.499449\n",
      "MUL     0.00    25.88     8.493590  4.166872\n",
      "CLO     0.04    28.21     8.707332  4.503954\n",
      "BEL     0.13    42.38    13.121007  5.835037\n",
      "MAL     0.67    42.54    15.599079  6.699794\n"
     ]
    }
   ],
   "source": [
    "loc_stats = pd.DataFrame({\n",
    "    'min': data.min(),\n",
    "    'max': data.max(),\n",
    "    'mean': data.mean(),\n",
    "    'std': data.std()\n",
    "})\n",
    "print(loc_stats)"
   ]
  },
  {
   "cell_type": "markdown",
   "id": "d98425ad",
   "metadata": {},
   "source": [
    "- Create a DataFrame called day_stats and calculate the min, max, mean, and standard deviations"
   ]
  },
  {
   "cell_type": "code",
   "execution_count": 28,
   "id": "1365560f",
   "metadata": {},
   "outputs": [
    {
     "name": "stdout",
     "output_type": "stream",
     "text": [
      "             min     max        mean         std\n",
      "Date                                            \n",
      "1961-01-01  1.00  1961.0  150.442857  521.138056\n",
      "1961-01-02  1.00  1961.0  149.192857  521.493581\n",
      "1961-01-03  1.00  1961.0  149.504286  521.406085\n",
      "1961-01-04  1.00  1961.0  136.362000  504.781236\n",
      "1961-01-05  1.00  1961.0  139.637333  503.877109\n",
      "...          ...     ...         ...         ...\n",
      "1978-12-27  8.08  1978.0  147.833333  506.357269\n",
      "1978-12-28  5.00  1978.0  146.653333  506.711433\n",
      "1978-12-29  8.71  1978.0  146.512000  506.705578\n",
      "1978-12-30  9.13  1978.0  146.960667  506.580837\n",
      "1978-12-31  9.59  1978.0  147.055333  506.558027\n",
      "\n",
      "[6574 rows x 4 columns]\n"
     ]
    }
   ],
   "source": [
    "day_stats = pd.DataFrame({\n",
    "    'min': data.min(axis=1),\n",
    "    'max': data.max(axis=1),\n",
    "    'mean': data.mean(axis=1),\n",
    "    'std': data.std(axis=1)\n",
    "})\n",
    "print(day_stats)"
   ]
  },
  {
   "cell_type": "markdown",
   "id": "ffa51a46",
   "metadata": {},
   "source": [
    "- Find the average windspeed in January for each location"
   ]
  },
  {
   "cell_type": "code",
   "execution_count": 29,
   "id": "2875f6b2",
   "metadata": {},
   "outputs": [
    {
     "name": "stdout",
     "output_type": "stream",
     "text": [
      "Yr     1969.500000\n",
      "Mo        1.000000\n",
      "Dy       16.000000\n",
      "RPT      14.847325\n",
      "VAL      12.914560\n",
      "ROS      13.299624\n",
      "KIL       7.199498\n",
      "SHA      11.667734\n",
      "BIR       8.054839\n",
      "DUB      11.819355\n",
      "CLA       9.512047\n",
      "MUL       9.543208\n",
      "CLO      10.053566\n",
      "BEL      14.550520\n",
      "MAL      18.028763\n",
      "dtype: float64\n"
     ]
    }
   ],
   "source": [
    "january_avg = data[data.index.month == 1].mean()\n",
    "print(january_avg)"
   ]
  },
  {
   "cell_type": "markdown",
   "id": "e9359611",
   "metadata": {},
   "source": [
    "- Downsample the record to a yearly frequency for each location"
   ]
  },
  {
   "cell_type": "code",
   "execution_count": 30,
   "id": "5a9d55d0",
   "metadata": {},
   "outputs": [
    {
     "name": "stdout",
     "output_type": "stream",
     "text": [
      "                Yr        Mo         Dy        RPT        VAL        ROS  \\\n",
      "Date                                                                       \n",
      "1961-12-31  1961.0  6.526027  15.720548  12.299583  10.351796  11.362369   \n",
      "1962-12-31  1962.0  6.526027  15.720548  12.246923  10.110438  11.732712   \n",
      "1963-12-31  1963.0  6.526027  15.720548  12.813452  10.836986  12.541151   \n",
      "1964-12-31  1964.0  6.513661  15.756831  12.363661  10.920164  12.104372   \n",
      "1965-12-31  1965.0  6.526027  15.720548  12.451370  11.075534  11.848767   \n",
      "1966-12-31  1966.0  6.526027  15.720548  13.461973  11.557205  12.020630   \n",
      "1967-12-31  1967.0  6.526027  15.720548  12.737151  10.990986  11.739397   \n",
      "1968-12-31  1968.0  6.513661  15.756831  11.835628  10.468197  11.409754   \n",
      "1969-12-31  1969.0  6.526027  15.720548  11.166356   9.723699  10.902000   \n",
      "1970-12-31  1970.0  6.526027  15.720548  12.600329  10.726932  11.730247   \n",
      "1971-12-31  1971.0  6.526027  15.720548  11.273123   9.095178  11.088329   \n",
      "1972-12-31  1972.0  6.513661  15.756831  12.463962  10.561311  12.058333   \n",
      "1973-12-31  1973.0  6.526027  15.720548  11.828466  10.680493  10.680493   \n",
      "1974-12-31  1974.0  6.526027  15.720548  13.643096  11.811781  12.336356   \n",
      "1975-12-31  1975.0  6.526027  15.720548  12.008575  10.293836  11.564712   \n",
      "1976-12-31  1976.0  6.513661  15.756831  11.737842  10.203115  10.761230   \n",
      "1977-12-31  1977.0  6.526027  15.720548  13.099616  11.144493  12.627836   \n",
      "1978-12-31  1978.0  6.526027  15.720548  12.504356  11.044274  11.380000   \n",
      "\n",
      "                 KIL        SHA       BIR        DUB        CLA       MUL  \\\n",
      "Date                                                                        \n",
      "1961-12-31  6.958227  10.881763  7.729726   9.733923   8.858788  8.647652   \n",
      "1962-12-31  6.960440  10.657918  7.393068  11.020712   8.793753  8.316822   \n",
      "1963-12-31  7.330055  11.724110  8.434712  11.075699  10.336548  8.903589   \n",
      "1964-12-31  6.787787  11.454481  7.570874  10.259153   9.467350  7.789016   \n",
      "1965-12-31  6.858466  11.024795  7.478110  10.618712   8.879918  7.907425   \n",
      "1966-12-31  7.345726  11.805041  7.793671  10.579808   8.835096  8.514438   \n",
      "1967-12-31  7.143425  11.630740  7.368164  10.652027   9.325616  8.645014   \n",
      "1968-12-31  6.477678  10.760765  6.067322   8.859180   8.255519  7.224945   \n",
      "1969-12-31  5.767973   9.873918  6.189973   8.564493   7.711397  7.924521   \n",
      "1970-12-31  6.217178  10.567370  7.609452   9.609890   8.334630  9.297616   \n",
      "1971-12-31  5.241507   9.440329  6.097151   8.385890   6.757315  7.915370   \n",
      "1972-12-31  5.929699   9.430410  6.358825   9.704508   7.680792  8.357295   \n",
      "1973-12-31  5.547863   9.640877  6.548740   8.482110   7.614274  8.245534   \n",
      "1974-12-31  6.427041  11.110986  6.809781  10.084603   9.896986  9.331753   \n",
      "1975-12-31  5.269096   9.190082  5.668521   8.562603   7.843836  8.797945   \n",
      "1976-12-31  5.109426   8.846339  6.311038   9.149126   7.146202  8.883716   \n",
      "1977-12-31  6.073945  10.003836  8.586438  11.523205   8.378384  9.098192   \n",
      "1978-12-31  6.082356  10.167233  7.650658   9.489342   8.800466  9.089753   \n",
      "\n",
      "                  CLO        BEL        MAL  \n",
      "Date                                         \n",
      "1961-12-31   9.835577  13.502795  13.680773  \n",
      "1962-12-31   9.676247  12.930685  14.323956  \n",
      "1963-12-31  10.224438  13.638877  14.999014  \n",
      "1964-12-31  10.207951  13.740546  14.910301  \n",
      "1965-12-31   9.918082  12.964247  15.591644  \n",
      "1966-12-31   9.768959  14.265836  16.307260  \n",
      "1967-12-31   9.547425  14.774548  17.135945  \n",
      "1968-12-31   7.832978  12.808634  15.017486  \n",
      "1969-12-31   7.754384  12.621233  15.762904  \n",
      "1970-12-31   8.289808  13.183644  16.456027  \n",
      "1971-12-31   7.229753  12.208932  15.025233  \n",
      "1972-12-31   7.515273  12.727377  15.028716  \n",
      "1973-12-31   7.812411  12.169699  15.441096  \n",
      "1974-12-31   8.736356  13.252959  16.947671  \n",
      "1975-12-31   7.382822  12.631671  15.307863  \n",
      "1976-12-31   7.883087  12.332377  15.471448  \n",
      "1977-12-31   8.821616  13.459068  16.590849  \n",
      "1978-12-31   8.301699  12.967397  16.771370  \n"
     ]
    }
   ],
   "source": [
    "yearly_data = data.resample('Y').mean()\n",
    "print(yearly_data)"
   ]
  },
  {
   "cell_type": "markdown",
   "id": "e2abb983",
   "metadata": {},
   "source": [
    "- Downsample the record to a monthly frequency for each location"
   ]
  },
  {
   "cell_type": "code",
   "execution_count": 31,
   "id": "d12799a9",
   "metadata": {},
   "outputs": [
    {
     "name": "stdout",
     "output_type": "stream",
     "text": [
      "                Yr    Mo    Dy        RPT        VAL        ROS       KIL  \\\n",
      "Date                                                                        \n",
      "1961-01-31  1961.0   1.0  16.0  14.841333  11.988333  13.431613  7.736774   \n",
      "1961-02-28  1961.0   2.0  14.5  16.269286  14.975357  14.441481  9.230741   \n",
      "1961-03-31  1961.0   3.0  16.0  10.890000  11.296452  10.752903  7.284000   \n",
      "1961-04-30  1961.0   4.0  15.5  10.722667   9.427667   9.998000  5.830667   \n",
      "1961-05-31  1961.0   5.0  16.0   9.860968   8.850000  10.818065  5.905333   \n",
      "...            ...   ...   ...        ...        ...        ...       ...   \n",
      "1978-08-31  1978.0   8.0  16.0   9.645161   8.259355   9.032258  4.502903   \n",
      "1978-09-30  1978.0   9.0  15.5  10.913667  10.895000  10.635000  5.725000   \n",
      "1978-10-31  1978.0  10.0  16.0   9.897742   8.670968   9.295806  4.721290   \n",
      "1978-11-30  1978.0  11.0  15.5  16.151667  14.802667  13.508000  7.317333   \n",
      "1978-12-31  1978.0  12.0  16.0  16.175484  13.748065  15.635161  7.094839   \n",
      "\n",
      "                  SHA        BIR        DUB        CLA        MUL        CLO  \\\n",
      "Date                                                                           \n",
      "1961-01-31  11.072759   8.588065  11.184839   9.245333   9.085806  10.107419   \n",
      "1961-02-28  13.852143  10.937500  11.890714  11.846071  11.821429  12.714286   \n",
      "1961-03-31  10.509355   8.866774   9.644194   9.829677  10.294138  11.251935   \n",
      "1961-04-30   8.435000   6.495000   6.925333   7.094667   7.342333   7.237000   \n",
      "1961-05-31   9.490323   6.574839   7.604000   8.177097   8.039355   8.499355   \n",
      "...               ...        ...        ...        ...        ...        ...   \n",
      "1978-08-31   7.368065   5.935161   5.650323   5.417742   7.241290   5.536774   \n",
      "1978-09-30  10.372000   9.278333  10.790333   9.583000  10.069333   8.939000   \n",
      "1978-10-31   8.525161   6.774194   8.115484   7.337742   8.297742   8.243871   \n",
      "1978-11-30  11.475000   8.743000  11.492333   9.657333  10.701333  10.676000   \n",
      "1978-12-31  11.398710   9.241613  12.077419  10.194839  10.616774  11.028710   \n",
      "\n",
      "                  BEL        MAL  \n",
      "Date                              \n",
      "1961-01-31  13.880968  14.703226  \n",
      "1961-02-28  18.583214  15.411786  \n",
      "1961-03-31  16.410968  15.720000  \n",
      "1961-04-30  11.147333  10.278333  \n",
      "1961-05-31  11.900323  12.011613  \n",
      "...               ...        ...  \n",
      "1978-08-31  10.466774  12.054194  \n",
      "1978-09-30  15.680333  19.391333  \n",
      "1978-10-31  13.776774  17.150000  \n",
      "1978-11-30  17.404667  20.723000  \n",
      "1978-12-31  13.859677  21.371613  \n",
      "\n",
      "[216 rows x 15 columns]\n"
     ]
    }
   ],
   "source": [
    "monthly_data = data.resample('M').mean()\n",
    "print(monthly_data)"
   ]
  },
  {
   "cell_type": "markdown",
   "id": "bffa04ea",
   "metadata": {},
   "source": [
    "- Downsample the record to a weekly frequency for each location"
   ]
  },
  {
   "cell_type": "code",
   "execution_count": 32,
   "id": "d7fa418d",
   "metadata": {},
   "outputs": [
    {
     "name": "stdout",
     "output_type": "stream",
     "text": [
      "                Yr         Mo         Dy        RPT        VAL        ROS  \\\n",
      "Date                                                                        \n",
      "1961-01-01  1961.0   1.000000   1.000000  15.040000  14.960000  13.170000   \n",
      "1961-01-08  1961.0   1.000000   5.000000  13.541429  11.486667  10.487143   \n",
      "1961-01-15  1961.0   1.000000  12.000000  12.468571   8.967143  11.958571   \n",
      "1961-01-22  1961.0   1.000000  19.000000  13.204286   9.862857  12.982857   \n",
      "1961-01-29  1961.0   1.000000  26.000000  19.880000  16.141429  18.225714   \n",
      "...            ...        ...        ...        ...        ...        ...   \n",
      "1978-12-03  1978.0  11.428571  17.142857  14.934286  11.232857  13.941429   \n",
      "1978-12-10  1978.0  12.000000   7.000000  20.740000  19.190000  17.034286   \n",
      "1978-12-17  1978.0  12.000000  14.000000  16.758571  14.692857  14.987143   \n",
      "1978-12-24  1978.0  12.000000  21.000000  11.155714   8.008571  13.172857   \n",
      "1978-12-31  1978.0  12.000000  28.000000  14.951429  11.801429  16.035714   \n",
      "\n",
      "                  KIL        SHA        BIR        DUB        CLA        MUL  \\\n",
      "Date                                                                           \n",
      "1961-01-01   9.290000        NaN   9.870000  13.670000  10.250000  10.830000   \n",
      "1961-01-08   6.417143   9.474286   6.435714  11.061429   6.616667   8.434286   \n",
      "1961-01-15   4.630000   7.351429   5.072857   7.535714   6.820000   5.712857   \n",
      "1961-01-22   6.328571   8.966667   7.417143   9.257143   7.875714   7.145714   \n",
      "1961-01-29  12.720000  17.432857  14.828571  15.528571  15.160000  14.480000   \n",
      "...               ...        ...        ...        ...        ...        ...   \n",
      "1978-12-03   5.565714  10.215714   8.618571   9.642857   7.685714   9.011429   \n",
      "1978-12-10   9.777143  15.287143  12.774286  14.437143  12.488571  13.870000   \n",
      "1978-12-17   6.917143  11.397143   7.272857  10.208571   7.967143   9.168571   \n",
      "1978-12-24   4.004286   7.825714   6.290000   7.798571   8.667143   7.151429   \n",
      "1978-12-31   6.507143   9.660000   8.620000  13.708571  10.477143  10.868571   \n",
      "\n",
      "                  CLO        BEL        MAL  \n",
      "Date                                         \n",
      "1961-01-01  12.580000  18.500000  15.040000  \n",
      "1961-01-08   8.497143  12.481429  13.238571  \n",
      "1961-01-15   7.571429  11.125714  11.024286  \n",
      "1961-01-22   8.124286   9.821429  11.434286  \n",
      "1961-01-29  15.640000  20.930000  22.530000  \n",
      "...               ...        ...        ...  \n",
      "1978-12-03   9.547143  11.835714  18.728571  \n",
      "1978-12-10  14.082857  18.517143  23.061429  \n",
      "1978-12-17   8.565714  11.102857  15.562857  \n",
      "1978-12-24   8.072857  11.845714  18.977143  \n",
      "1978-12-31  11.471429  12.947143  26.844286  \n",
      "\n",
      "[940 rows x 15 columns]\n"
     ]
    }
   ],
   "source": [
    "weekly_data = data.resample('W').mean()\n",
    "print(weekly_data)"
   ]
  },
  {
   "cell_type": "markdown",
   "id": "e35bab46",
   "metadata": {},
   "source": [
    "- Calculate the min, max, mean, and standard deviations of the windspeeds across all locations for each week"
   ]
  },
  {
   "cell_type": "code",
   "execution_count": 33,
   "id": "bdbb1b4b",
   "metadata": {},
   "outputs": [
    {
     "name": "stdout",
     "output_type": "stream",
     "text": [
      "              Yr                     Mo                Dy      ...        CLO  \\\n",
      "             min   max    mean  std min max mean  std min max  ...       mean   \n",
      "Date                                                           ...              \n",
      "1961-01-01  1961  1961  1961.0  NaN   1   1  1.0  NaN   1   1  ...  12.580000   \n",
      "1961-01-08  1961  1961  1961.0  0.0   1   1  1.0  0.0   2   8  ...   8.497143   \n",
      "1961-01-15  1961  1961  1961.0  0.0   1   1  1.0  0.0   9  15  ...   7.571429   \n",
      "1961-01-22  1961  1961  1961.0  0.0   1   1  1.0  0.0  16  22  ...   8.124286   \n",
      "1961-01-29  1961  1961  1961.0  0.0   1   1  1.0  0.0  23  29  ...  15.640000   \n",
      "\n",
      "                        BEL                                MAL         \\\n",
      "                 std    min    max       mean       std    min    max   \n",
      "Date                                                                    \n",
      "1961-01-01       NaN  18.50  18.50  18.500000       NaN  15.04  15.04   \n",
      "1961-01-08  1.704941   5.46  17.54  12.481429  4.349139  10.88  16.46   \n",
      "1961-01-15  4.084293   5.25  20.71  11.125714  5.552215   5.17  16.92   \n",
      "1961-01-22  4.783952   6.50  15.92   9.821429  3.626584   6.79  17.96   \n",
      "1961-01-29  3.713368  14.04  27.71  20.930000  5.210726  17.50  27.63   \n",
      "\n",
      "                                 \n",
      "                 mean       std  \n",
      "Date                             \n",
      "1961-01-01  15.040000       NaN  \n",
      "1961-01-08  13.238571  1.773062  \n",
      "1961-01-15  11.024286  4.692355  \n",
      "1961-01-22  11.434286  4.237239  \n",
      "1961-01-29  22.530000  3.874721  \n",
      "\n",
      "[5 rows x 60 columns]\n"
     ]
    }
   ],
   "source": [
    "weekly_stats = data.resample('W').agg(['min', 'max', 'mean', 'std'])\n",
    "print(weekly_stats.head())"
   ]
  },
  {
   "cell_type": "markdown",
   "id": "7ea70604",
   "metadata": {},
   "source": [
    "### Question 5"
   ]
  },
  {
   "cell_type": "code",
   "execution_count": 34,
   "id": "e2af8357",
   "metadata": {},
   "outputs": [
    {
     "name": "stdout",
     "output_type": "stream",
     "text": [
      "First 10 entries:\n",
      "   order_id  quantity                              item_name  \\\n",
      "0         1         1           Chips and Fresh Tomato Salsa   \n",
      "1         1         1                                   Izze   \n",
      "2         1         1                       Nantucket Nectar   \n",
      "3         1         1  Chips and Tomatillo-Green Chili Salsa   \n",
      "4         2         2                           Chicken Bowl   \n",
      "5         3         1                           Chicken Bowl   \n",
      "6         3         1                          Side of Chips   \n",
      "7         4         1                          Steak Burrito   \n",
      "8         4         1                       Steak Soft Tacos   \n",
      "9         5         1                          Steak Burrito   \n",
      "\n",
      "                                  choice_description item_price  \n",
      "0                                                NaN     $2.39   \n",
      "1                                       [Clementine]     $3.39   \n",
      "2                                            [Apple]     $3.39   \n",
      "3                                                NaN     $2.39   \n",
      "4  [Tomatillo-Red Chili Salsa (Hot), [Black Beans...    $16.98   \n",
      "5  [Fresh Tomato Salsa (Mild), [Rice, Cheese, Sou...    $10.98   \n",
      "6                                                NaN     $1.69   \n",
      "7  [Tomatillo Red Chili Salsa, [Fajita Vegetables...    $11.75   \n",
      "8  [Tomatillo Green Chili Salsa, [Pinto Beans, Ch...     $9.25   \n",
      "9  [Fresh Tomato Salsa, [Rice, Black Beans, Pinto...     $9.25   \n"
     ]
    }
   ],
   "source": [
    "# Import the necessary libraries\n",
    "import pandas as pd\n",
    "\n",
    "# Import the dataset from the provided address\n",
    "url = \"https://raw.githubusercontent.com/justmarkham/DAT8/master/data/chipotle.tsv\"\n",
    "\n",
    "# Assign it to a variable called chipo\n",
    "chipo = pd.read_csv(url, sep='\\t')\n",
    "\n",
    "# See the first 10 entries\n",
    "print(\"First 10 entries:\")\n",
    "print(chipo.head(10))"
   ]
  },
  {
   "cell_type": "markdown",
   "id": "a399914f",
   "metadata": {},
   "source": [
    "- What is the number of observations in the dataset?"
   ]
  },
  {
   "cell_type": "code",
   "execution_count": 35,
   "id": "95846017",
   "metadata": {},
   "outputs": [
    {
     "name": "stdout",
     "output_type": "stream",
     "text": [
      "\n",
      "Number of observations in the dataset: 4622\n"
     ]
    }
   ],
   "source": [
    "num_observations = chipo.shape[0]\n",
    "print(\"\\nNumber of observations in the dataset:\", num_observations)"
   ]
  },
  {
   "cell_type": "markdown",
   "id": "937c88d2",
   "metadata": {},
   "source": [
    "- What is the number of columns in the dataset?"
   ]
  },
  {
   "cell_type": "code",
   "execution_count": 36,
   "id": "80256b93",
   "metadata": {},
   "outputs": [
    {
     "name": "stdout",
     "output_type": "stream",
     "text": [
      "Number of columns in the dataset: 5\n"
     ]
    }
   ],
   "source": [
    "num_columns = chipo.shape[1]\n",
    "print(\"Number of columns in the dataset:\", num_columns)"
   ]
  },
  {
   "cell_type": "markdown",
   "id": "e178bb65",
   "metadata": {},
   "source": [
    "- Print the name of all the columns"
   ]
  },
  {
   "cell_type": "code",
   "execution_count": 37,
   "id": "25799354",
   "metadata": {},
   "outputs": [
    {
     "name": "stdout",
     "output_type": "stream",
     "text": [
      "\n",
      "Column names:\n",
      "Index(['order_id', 'quantity', 'item_name', 'choice_description',\n",
      "       'item_price'],\n",
      "      dtype='object')\n"
     ]
    }
   ],
   "source": [
    "print(\"\\nColumn names:\")\n",
    "print(chipo.columns)"
   ]
  },
  {
   "cell_type": "markdown",
   "id": "0342ae2c",
   "metadata": {},
   "source": [
    "- How is the dataset indexed?"
   ]
  },
  {
   "cell_type": "code",
   "execution_count": 38,
   "id": "0eca918d",
   "metadata": {},
   "outputs": [
    {
     "name": "stdout",
     "output_type": "stream",
     "text": [
      "\n",
      "Indexing:\n",
      "RangeIndex(start=0, stop=4622, step=1)\n"
     ]
    }
   ],
   "source": [
    "print(\"\\nIndexing:\")\n",
    "print(chipo.index)"
   ]
  },
  {
   "cell_type": "markdown",
   "id": "bfeced93",
   "metadata": {},
   "source": [
    "- Which was the most-ordered item?"
   ]
  },
  {
   "cell_type": "code",
   "execution_count": 39,
   "id": "b7a5495b",
   "metadata": {},
   "outputs": [
    {
     "name": "stdout",
     "output_type": "stream",
     "text": [
      "\n",
      "Most-ordered item: Chicken Bowl\n"
     ]
    }
   ],
   "source": [
    "most_ordered_item = chipo.groupby('item_name')['quantity'].sum().idxmax()\n",
    "print(\"\\nMost-ordered item:\", most_ordered_item)"
   ]
  },
  {
   "cell_type": "markdown",
   "id": "b2cbd2ae",
   "metadata": {},
   "source": [
    "- For the most-ordered item, how many items were ordered?"
   ]
  },
  {
   "cell_type": "code",
   "execution_count": 40,
   "id": "1888cd1e",
   "metadata": {},
   "outputs": [
    {
     "name": "stdout",
     "output_type": "stream",
     "text": [
      "Quantity of the most-ordered item: 761\n"
     ]
    }
   ],
   "source": [
    "quantity_most_ordered_item = chipo.groupby('item_name')['quantity'].sum().max()\n",
    "print(\"Quantity of the most-ordered item:\", quantity_most_ordered_item)"
   ]
  },
  {
   "cell_type": "markdown",
   "id": "548beb6a",
   "metadata": {},
   "source": [
    "- What was the most ordered item in the choice_description column?"
   ]
  },
  {
   "cell_type": "code",
   "execution_count": 41,
   "id": "5533a3f5",
   "metadata": {},
   "outputs": [
    {
     "name": "stdout",
     "output_type": "stream",
     "text": [
      "Most-ordered item in choice_description: [Diet Coke]\n"
     ]
    }
   ],
   "source": [
    "most_ordered_choice = chipo.groupby('choice_description')['quantity'].sum().idxmax()\n",
    "print(\"Most-ordered item in choice_description:\", most_ordered_choice)"
   ]
  },
  {
   "cell_type": "markdown",
   "id": "2a7d5dbf",
   "metadata": {},
   "source": [
    "- How many items were ordered in total?"
   ]
  },
  {
   "cell_type": "code",
   "execution_count": 42,
   "id": "8d7054e7",
   "metadata": {},
   "outputs": [
    {
     "name": "stdout",
     "output_type": "stream",
     "text": [
      "Total items ordered: 4972\n"
     ]
    }
   ],
   "source": [
    "total_items_ordered = chipo['quantity'].sum()\n",
    "print(\"Total items ordered:\", total_items_ordered)"
   ]
  },
  {
   "cell_type": "markdown",
   "id": "cb5d96bb",
   "metadata": {},
   "source": [
    "- Turn the item price into a float\n",
    "- Check the item price type\n",
    "- Create a lambda function and change the type of item price\n",
    "- Check the item price type"
   ]
  },
  {
   "cell_type": "code",
   "execution_count": 43,
   "id": "2345bcb3",
   "metadata": {},
   "outputs": [
    {
     "name": "stdout",
     "output_type": "stream",
     "text": [
      "\n",
      "Item price type after conversion: float64\n"
     ]
    }
   ],
   "source": [
    "chipo['item_price'] = chipo['item_price'].apply(lambda x: float(x[1:]))\n",
    "print(\"\\nItem price type after conversion:\", chipo['item_price'].dtype)"
   ]
  },
  {
   "cell_type": "markdown",
   "id": "5ca8707c",
   "metadata": {},
   "source": [
    "- How much was the revenue for the period in the dataset?"
   ]
  },
  {
   "cell_type": "code",
   "execution_count": 44,
   "id": "931cb006",
   "metadata": {},
   "outputs": [
    {
     "name": "stdout",
     "output_type": "stream",
     "text": [
      "\n",
      "Revenue for the period: 39237.02\n"
     ]
    }
   ],
   "source": [
    "\n",
    "revenue = (chipo['item_price'] * chipo['quantity']).sum()\n",
    "print(\"\\nRevenue for the period:\", revenue)"
   ]
  },
  {
   "cell_type": "markdown",
   "id": "20e38873",
   "metadata": {},
   "source": [
    "- How many orders were made in the period?"
   ]
  },
  {
   "cell_type": "code",
   "execution_count": 45,
   "id": "bb4a5a21",
   "metadata": {},
   "outputs": [
    {
     "name": "stdout",
     "output_type": "stream",
     "text": [
      "Number of orders made: 1834\n"
     ]
    }
   ],
   "source": [
    "num_orders = chipo['order_id'].nunique()\n",
    "print(\"Number of orders made:\", num_orders)"
   ]
  },
  {
   "cell_type": "markdown",
   "id": "495c0924",
   "metadata": {},
   "source": [
    "- What is the average revenue amount per order?"
   ]
  },
  {
   "cell_type": "code",
   "execution_count": 46,
   "id": "da032973",
   "metadata": {},
   "outputs": [
    {
     "name": "stdout",
     "output_type": "stream",
     "text": [
      "Average revenue amount per order: 21.39423118865867\n"
     ]
    }
   ],
   "source": [
    "\n",
    "average_revenue_per_order = revenue / num_orders\n",
    "print(\"Average revenue amount per order:\", average_revenue_per_order)"
   ]
  },
  {
   "cell_type": "markdown",
   "id": "b5f64425",
   "metadata": {},
   "source": [
    "- How many different items are sold?"
   ]
  },
  {
   "cell_type": "code",
   "execution_count": 47,
   "id": "aca55f1d",
   "metadata": {},
   "outputs": [
    {
     "name": "stdout",
     "output_type": "stream",
     "text": [
      "Number of different items sold: 50\n"
     ]
    }
   ],
   "source": [
    "num_different_items = chipo['item_name'].nunique()\n",
    "print(\"Number of different items sold:\", num_different_items)"
   ]
  },
  {
   "cell_type": "markdown",
   "id": "53724b6b",
   "metadata": {},
   "source": [
    "### Question 6"
   ]
  },
  {
   "cell_type": "code",
   "execution_count": 48,
   "id": "e84fc80a",
   "metadata": {},
   "outputs": [
    {
     "data": {
      "image/png": "[encoded data removed]",
      "text/plain": [
       "<Figure size 1000x600 with 1 Axes>"
      ]
     },
     "metadata": {},
     "output_type": "display_data"
    }
   ],
   "source": [
    "import pandas as pd\n",
    "import matplotlib.pyplot as plt\n",
    "\n",
    "# Read the CSV file\n",
    "df = pd.read_csv(r\"C:\\Users\\raval\\OneDrive\\Documents\\BDAT\\data prog-Ethan\\dataset\\us-marriages-divorces-1867-2014.csv\")\n",
    "\n",
    "# Plotting the data\n",
    "plt.figure(figsize=(10, 6))\n",
    "plt.plot(df['Year'], df['Marriages_per_1000'], label='Marriages per 1000')\n",
    "plt.plot(df['Year'], df['Divorces_per_1000'], label='Divorces per 1000')\n",
    "\n",
    "# Adding labels and title\n",
    "plt.xlabel('Year')\n",
    "plt.ylabel('Per Capita')\n",
    "plt.title('Marriages and Divorces per Capita in the U.S. (1867-2014)')\n",
    "plt.legend()\n",
    "\n",
    "# Display the plot\n",
    "plt.grid(True)\n",
    "plt.show()\n"
   ]
  },
  {
   "cell_type": "markdown",
   "id": "33795b7d",
   "metadata": {},
   "source": [
    "### Question 7"
   ]
  },
  {
   "cell_type": "code",
   "execution_count": 49,
   "id": "fe71e96c",
   "metadata": {},
   "outputs": [
    {
     "data": {
      "image/png": "[encoded data removed]",
      "text/plain": [
       "<Figure size 800x500 with 1 Axes>"
      ]
     },
     "metadata": {},
     "output_type": "display_data"
    }
   ],
   "source": [
    "# Filter data for the years 1900, 1950, and 2000\n",
    "selected_years = [1900, 1950, 2000]\n",
    "filtered_data = df[df['Year'].isin(selected_years)]\n",
    "\n",
    "# Plotting the data\n",
    "plt.figure(figsize=(8, 5))\n",
    "bar_width = 2\n",
    "\n",
    "bar1 = plt.bar(filtered_data['Year'] - bar_width/2, filtered_data['Marriages_per_1000'], bar_width, label='Marriages per 1000')\n",
    "bar2 = plt.bar(filtered_data['Year'] + bar_width/2, filtered_data['Divorces_per_1000'], bar_width, label='Divorces per 1000')\n",
    "\n",
    "# Adding labels and title\n",
    "plt.xlabel('Year')\n",
    "plt.ylabel('Per Capita')\n",
    "plt.title('Marriages and Divorces per Capita in the U.S. (1900, 1950, 2000)')\n",
    "plt.legend()\n",
    "\n",
    "# Display the plot\n",
    "plt.grid(True)\n",
    "plt.show()"
   ]
  },
  {
   "cell_type": "markdown",
   "id": "cc173666",
   "metadata": {},
   "source": [
    "### Question 8"
   ]
  },
  {
   "cell_type": "code",
   "execution_count": 50,
   "id": "c9ef31ae",
   "metadata": {},
   "outputs": [
    {
     "data": {
      "image/png": "[encoded data removed]",
      "text/plain": [
       "<Figure size 1000x600 with 1 Axes>"
      ]
     },
     "metadata": {},
     "output_type": "display_data"
    }
   ],
   "source": [
    "import pandas as pd\n",
    "import matplotlib.pyplot as plt\n",
    "\n",
    "# Read the CSV file\n",
    "df = pd.read_csv(r\"C:\\Users\\raval\\OneDrive\\Documents\\BDAT\\data prog-Ethan\\dataset\\actor_kill_counts.csv\")\n",
    "\n",
    "# Sort the data by kill count\n",
    "sorted_data = df.sort_values(by='Count', ascending=False)\n",
    "\n",
    "# Plotting the data\n",
    "plt.figure(figsize=(10, 6))\n",
    "plt.barh(sorted_data['Actor'], sorted_data['Count'], color='pink')\n",
    "plt.xlabel('Kill Count')\n",
    "plt.ylabel('Actor')\n",
    "plt.title('Deadliest Actors in Hollywood')\n",
    "plt.grid(axis='x')\n",
    "\n",
    "# Adding labels\n",
    "for index, value in enumerate(sorted_data['Count']):\n",
    "    plt.text(value, index, str(value), ha='left', va='center', fontsize=10)\n",
    "\n",
    "# Display the plot\n",
    "plt.show()\n"
   ]
  },
  {
   "cell_type": "markdown",
   "id": "38c03dd1",
   "metadata": {},
   "source": [
    "### Question 9"
   ]
  },
  {
   "cell_type": "code",
   "execution_count": 51,
   "id": "27a1e770",
   "metadata": {},
   "outputs": [
    {
     "name": "stdout",
     "output_type": "stream",
     "text": [
      "['Possibly assassinated' 'Assassinated' 'Suicide' 'Natural causes'\n",
      " 'Illness' 'Executed' 'Killed in battle' 'Died in captivity']\n"
     ]
    },
    {
     "data": {
      "image/png": "[encoded data removed]",
      "text/plain": [
       "<Figure size 1000x1000 with 1 Axes>"
      ]
     },
     "metadata": {},
     "output_type": "display_data"
    }
   ],
   "source": [
    "import pandas as pd\n",
    "import matplotlib.pyplot as plt\n",
    "\n",
    "# Read the CSV file\n",
    "df = pd.read_csv(r\"C:\\Users\\raval\\OneDrive\\Documents\\BDAT\\data prog-Ethan\\dataset\\roman-emperor-reigns.csv\")\n",
    "\n",
    "# Get unique values in the 'Cause_of_Death' column\n",
    "unique_causes = df['Cause_of_Death'].unique()\n",
    "\n",
    "print(unique_causes)\n",
    "# Create a pie chart for each cause of death\n",
    "plt.figure(figsize=(10, 10))\n",
    "\n",
    "# Initialize variables to store data for autopct labels\n",
    "autopct_labels = []\n",
    "\n",
    "for cause in unique_causes:\n",
    "    cause_count = df[df['Cause_of_Death'] == cause].shape[0]\n",
    "    autopct_labels.append(f'{cause} ({cause_count} emperors)')\n",
    "\n",
    "# Create the pie chart\n",
    "plt.pie(df['Cause_of_Death'].value_counts(), labels=autopct_labels, autopct='%1.1f%%', startangle=140)\n",
    "\n",
    "plt.title('Causes of Death Among Roman Emperors')\n",
    "plt.axis('equal')  # Ensure an even circle\n",
    "plt.show()"
   ]
  },
  {
   "cell_type": "markdown",
   "id": "c094d93f",
   "metadata": {},
   "source": [
    "### Question 10"
   ]
  },
  {
   "cell_type": "code",
   "execution_count": 52,
   "id": "69b1cd6f",
   "metadata": {},
   "outputs": [
    {
     "data": {
      "image/png": "[encoded data removed]",
      "text/plain": [
       "<Figure size 1000x600 with 2 Axes>"
      ]
     },
     "metadata": {},
     "output_type": "display_data"
    }
   ],
   "source": [
    "import pandas as pd\n",
    "import matplotlib.pyplot as plt\n",
    "import numpy as np\n",
    "\n",
    "# Read the CSV file\n",
    "df = pd.read_csv(r\"C:\\Users\\raval\\OneDrive\\Documents\\BDAT\\data prog-Ethan\\dataset\\arcade-revenue-vs-cs-doctorates.csv\")\n",
    "\n",
    "# Extracting data\n",
    "years = df['Year']\n",
    "revenue = df['Total Arcade Revenue (billions)']\n",
    "phd_awarded = df['Computer Science Doctorates Awarded (US)']\n",
    "\n",
    "# Create a scatter plot\n",
    "plt.figure(figsize=(10, 6))\n",
    "scatter = plt.scatter(revenue, phd_awarded, c=years, cmap='viridis', s=80, alpha=0.8)\n",
    "\n",
    "# Adding labels and title\n",
    "plt.xlabel('Total Arcade Revenue (billions)')\n",
    "plt.ylabel('Computer Science Doctorates Awarded (US)')\n",
    "plt.title('Relationship between Arcade Revenue and Computer Science PhDs (2000-2009)')\n",
    "\n",
    "# Adding colorbar\n",
    "cbar = plt.colorbar(scatter)\n",
    "cbar.set_label('Year')\n",
    "\n",
    "# Display the plot\n",
    "plt.grid(True)\n",
    "plt.show()\n"
   ]
  }
 ],
 "metadata": {
  "kernelspec": {
   "display_name": "Python 3 (ipykernel)",
   "language": "python",
   "name": "python3"
  },
  "language_info": {
   "codemirror_mode": {
    "name": "ipython",
    "version": 3
   },
   "file_extension": ".py",
   "mimetype": "text/x-python",
   "name": "python",
   "nbconvert_exporter": "python",
   "pygments_lexer": "ipython3",
   "version": "3.11.4"
  }
 },
 "nbformat": 4,
 "nbformat_minor": 5
}
